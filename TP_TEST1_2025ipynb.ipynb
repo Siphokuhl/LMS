{
  "nbformat": 4,
  "nbformat_minor": 0,
  "metadata": {
    "colab": {
      "provenance": [],
      "mount_file_id": "1pJ6C5W-ABoeni_MiPaX6pFZ9wDP37XiV",
      "authorship_tag": "ABX9TyPbha3RVd25gpaFs/x8WALX",
      "include_colab_link": true
    },
    "kernelspec": {
      "name": "python3",
      "display_name": "Python 3"
    },
    "language_info": {
      "name": "python"
    }
  },
  "cells": [
    {
      "cell_type": "markdown",
      "metadata": {
        "id": "view-in-github",
        "colab_type": "text"
      },
      "source": [
        "<a href=\"https://colab.research.google.com/github/Siphokuhl/LMS/blob/master/TP_TEST1_2025ipynb.ipynb\" target=\"_parent\"><img src=\"https://colab.research.google.com/assets/colab-badge.svg\" alt=\"Open In Colab\"/></a>"
      ]
    },
    {
      "cell_type": "markdown",
      "source": [
        "student number: 22222778\n",
        "initials : Xulu OS"
      ],
      "metadata": {
        "id": "nKLA2qPOgc4b"
      }
    },
    {
      "cell_type": "code",
      "source": [
        "import pandas as pd\n",
        "import matplotlib.pyplot as plt\n",
        "import seaborn as sns\n",
        "import numpy as np"
      ],
      "metadata": {
        "id": "qb7tvhs9gqZg"
      },
      "execution_count": 1,
      "outputs": []
    },
    {
      "cell_type": "code",
      "source": [
        "Tourism = pd.read_csv(\"/content/drive/MyDrive/tp-test1/tourism_dataset_5000.csv\")"
      ],
      "metadata": {
        "id": "qND1qIAShVH3"
      },
      "execution_count": 2,
      "outputs": []
    },
    {
      "cell_type": "markdown",
      "source": [
        "DATA SOURCING"
      ],
      "metadata": {
        "id": "Y8767pfmnBPc"
      }
    },
    {
      "cell_type": "markdown",
      "source": [
        "The dataset used in this assessment was sourced from Kaggle Open Data Platform (https://www.kaggle.com/datasets/ziya07/cultural-tourism-dataset). It was found under public datasets related to tourism user experience and smart travel systems. The dataset is titled “tourism_dataset_5000.csv” and is available in .csv format, which complies with the project requirements.\n",
        "Relevance to the Problem Statement:\n",
        "South Africa is celebrated for its diverse heritage and tourism potential. This dataset enables us to model and analyze how tourists interact with cultural and natural attractions, allowing us to simulate and optimize user experience across different regions and interests. Though global in origin, the structure and insights generated are highly transferable to the South African context, making it a valuable asset for promoting local tourism through data science."
      ],
      "metadata": {
        "id": "ChPbR_PDnGcM"
      }
    },
    {
      "cell_type": "markdown",
      "source": [
        "MACHINE LEARNING LIFECYCLE"
      ],
      "metadata": {
        "id": "I5MX9LjEnvML"
      }
    },
    {
      "cell_type": "markdown",
      "source": [
        "Machine Learning Project Life Cycle\n",
        "The machine learning project life cycle consists of the following stages:\n",
        "\n",
        "1. Problem Definition\n",
        "- Identify a problem or opportunity\n",
        "- Define the problem statement\n",
        "- Determine the goals and objectives\n",
        "\n",
        "2. Data Collection\n",
        "- Gather relevant data from various sources\n",
        "- Ensure data quality and integrity\n",
        "- Store data in a suitable format\n",
        "\n",
        "3. Data Preprocessing\n",
        "- Clean and preprocess the data\n",
        "- Handle missing values and outliers\n",
        "- Transform data into a suitable format\n",
        "\n",
        "4. Exploratory Data Analysis (EDA)\n",
        "- Analyze the data to understand patterns and relationships\n",
        "- Visualize the data to gain insights\n",
        "- Identify correlations and trends\n",
        "\n",
        "5. Model Development\n",
        "- Select a suitable machine learning algorithm\n",
        "- Train the model using the preprocessed data\n",
        "- Tune hyperparameters for optimal performance\n",
        "\n",
        "6. Model Evaluation\n",
        "- Evaluate the performance of the model\n",
        "- Use metrics such as accuracy, precision, and recall\n",
        "- Compare the model with baseline models\n",
        "\n",
        "7. Model Deployment\n",
        "- Deploy the model in a production environment\n",
        "- Integrate the model with other systems and applications\n",
        "- Monitor the model's performance and make adjustments as needed\n",
        "\n",
        "8. Model Maintenance\n",
        "- Continuously monitor the model's performance\n",
        "- Update the model with new data and retrain as needed\n",
        "- Refine the model to improve its performance and accuracy\n",
        "\n",
        "Understanding\n",
        "The machine learning project life cycle is an iterative process that requires continuous refinement and improvement. Each stage builds upon the previous one, and the entire process is repeated to ensure the model remains accurate and effective.\n",
        "\n",
        "Key Takeaways\n",
        "- The machine learning project life cycle consists of eight stages.\n",
        "- Each stage is crucial to the success of the project.\n",
        "- The process is iterative, and continuous refinement and improvement are necessary."
      ],
      "metadata": {
        "id": "ZXix6AmOn0Mr"
      }
    },
    {
      "cell_type": "markdown",
      "source": [
        "DATA UNDERSTANDING"
      ],
      "metadata": {
        "id": "MeY63Rnap8O0"
      }
    },
    {
      "cell_type": "markdown",
      "source": [
        "Displaying the first 5 rows of the dataset"
      ],
      "metadata": {
        "id": "ewiVonsMk-8l"
      }
    },
    {
      "cell_type": "code",
      "source": [
        "print (\"Displaying the first 5 rows of the dataset\")\n",
        "print (Tourism.head(5))"
      ],
      "metadata": {
        "colab": {
          "base_uri": "https://localhost:8080/"
        },
        "id": "K6jM28h_knEi",
        "outputId": "4ec1331e-f59e-4ac1-c59f-680a03d8e8da"
      },
      "execution_count": 3,
      "outputs": [
        {
          "output_type": "stream",
          "name": "stdout",
          "text": [
            "Displaying the first 5 rows of the dataset\n",
            "   Tourist ID  Age                            Interests  \\\n",
            "0           1   48   ['Architecture', 'Art', 'History']   \n",
            "1           2   37               ['Cultural', 'Nature']   \n",
            "2           3   43   ['History', 'Art', 'Architecture']   \n",
            "3           4   46  ['Cultural', 'Art', 'Architecture']   \n",
            "4           5   53              ['Architecture', 'Art']   \n",
            "\n",
            "   Preferred Tour Duration  Accessibility     Site Name  \\\n",
            "0                        5          False  Eiffel Tower   \n",
            "1                        6          False     Colosseum   \n",
            "2                        6           True  Machu Picchu   \n",
            "3                        8          False     Colosseum   \n",
            "4                        5           True     Colosseum   \n",
            "\n",
            "                                       Sites Visited  Tour Duration  Route ID  \\\n",
            "0  ['Eiffel Tower', 'Great Wall of China', 'Taj M...              7      1000   \n",
            "1                            ['Great Wall of China']              1      2000   \n",
            "2                                   ['Eiffel Tower']              2      3000   \n",
            "3                      ['Machu Picchu', 'Taj Mahal']              5      4000   \n",
            "4  ['Machu Picchu', 'Taj Mahal', 'Great Wall of C...              7      5000   \n",
            "\n",
            "   Tourist Rating  System Response Time  Recommendation Accuracy  \\\n",
            "0             1.6                  3.73                       97   \n",
            "1             2.6                  2.89                       90   \n",
            "2             1.7                  2.22                       94   \n",
            "3             2.0                  2.34                       92   \n",
            "4             3.7                  2.00                       96   \n",
            "\n",
            "   VR Experience Quality  Satisfaction  \n",
            "0                    4.5             3  \n",
            "1                    4.5             3  \n",
            "2                    4.7             3  \n",
            "3                    4.7             3  \n",
            "4                    4.8             4  \n"
          ]
        }
      ]
    },
    {
      "cell_type": "markdown",
      "source": [
        "Dispalying the last five rows of the dataset"
      ],
      "metadata": {
        "id": "dRSCR0x0lHLl"
      }
    },
    {
      "cell_type": "code",
      "source": [
        "print (\"Dispalying the last five rows of the dataset\")\n",
        "print (Tourism.tail(5))"
      ],
      "metadata": {
        "colab": {
          "base_uri": "https://localhost:8080/"
        },
        "id": "yrgSyOXXlU-e",
        "outputId": "077a0944-a471-4222-812f-6cc9f05238a9"
      },
      "execution_count": 4,
      "outputs": [
        {
          "output_type": "stream",
          "name": "stdout",
          "text": [
            "Dispalying the last five rows of the dataset\n",
            "      Tourist ID  Age                                Interests  \\\n",
            "4995        4996   31  ['Architecture', 'History', 'Cultural']   \n",
            "4996        4997   28   ['Architecture', 'Cultural', 'Nature']   \n",
            "4997        4998   42        ['History', 'Cultural', 'Nature']   \n",
            "4998        4999   58           ['Cultural', 'Art', 'History']   \n",
            "4999        5000   32                               ['Nature']   \n",
            "\n",
            "      Preferred Tour Duration  Accessibility            Site Name  \\\n",
            "4995                        3          False  Great Wall of China   \n",
            "4996                        7           True  Great Wall of China   \n",
            "4997                        3           True         Machu Picchu   \n",
            "4998                        5          False            Colosseum   \n",
            "4999                        4          False            Colosseum   \n",
            "\n",
            "                                          Sites Visited  Tour Duration  \\\n",
            "4995                            ['Great Wall of China']              2   \n",
            "4996                                      ['Colosseum']              1   \n",
            "4997                                      ['Taj Mahal']              1   \n",
            "4998  ['Taj Mahal', 'Great Wall of China', 'Colosseum']              7   \n",
            "4999                            ['Great Wall of China']              1   \n",
            "\n",
            "      Route ID  Tourist Rating  System Response Time  Recommendation Accuracy  \\\n",
            "4995   4996000             3.9                  2.53                      100   \n",
            "4996   4997000             4.3                  1.53                      100   \n",
            "4997   4998000             3.2                  3.99                       89   \n",
            "4998   4999000             2.5                  2.13                       98   \n",
            "4999   5000000             1.9                  2.99                       92   \n",
            "\n",
            "      VR Experience Quality  Satisfaction  \n",
            "4995                    4.4             4  \n",
            "4996                    5.0             4  \n",
            "4997                    4.4             3  \n",
            "4998                    4.4             3  \n",
            "4999                    4.8             3  \n"
          ]
        }
      ]
    },
    {
      "cell_type": "markdown",
      "source": [
        "Providing concise summary of dataframe"
      ],
      "metadata": {
        "id": "RAES19M5qAsl"
      }
    },
    {
      "cell_type": "code",
      "source": [
        "Tourism.info()"
      ],
      "metadata": {
        "colab": {
          "base_uri": "https://localhost:8080/"
        },
        "id": "3RwNRPb1qOHW",
        "outputId": "5ad8e376-1fcd-4a68-dac4-fab8a64f72d9"
      },
      "execution_count": null,
      "outputs": [
        {
          "output_type": "stream",
          "name": "stdout",
          "text": [
            "<class 'pandas.core.frame.DataFrame'>\n",
            "RangeIndex: 5000 entries, 0 to 4999\n",
            "Data columns (total 14 columns):\n",
            " #   Column                   Non-Null Count  Dtype  \n",
            "---  ------                   --------------  -----  \n",
            " 0   Tourist ID               5000 non-null   int64  \n",
            " 1   Age                      5000 non-null   int64  \n",
            " 2   Interests                5000 non-null   object \n",
            " 3   Preferred Tour Duration  5000 non-null   int64  \n",
            " 4   Accessibility            5000 non-null   bool   \n",
            " 5   Site Name                5000 non-null   object \n",
            " 6   Sites Visited            5000 non-null   object \n",
            " 7   Tour Duration            5000 non-null   int64  \n",
            " 8   Route ID                 5000 non-null   int64  \n",
            " 9   Tourist Rating           5000 non-null   float64\n",
            " 10  System Response Time     5000 non-null   float64\n",
            " 11  Recommendation Accuracy  5000 non-null   int64  \n",
            " 12  VR Experience Quality    5000 non-null   float64\n",
            " 13  Satisfaction             5000 non-null   int64  \n",
            "dtypes: bool(1), float64(3), int64(7), object(3)\n",
            "memory usage: 512.8+ KB\n"
          ]
        }
      ]
    },
    {
      "cell_type": "markdown",
      "source": [
        "Generating descriptive statistics"
      ],
      "metadata": {
        "id": "qi8reLSKqW26"
      }
    },
    {
      "cell_type": "code",
      "source": [
        "Tourism.describe()"
      ],
      "metadata": {
        "colab": {
          "base_uri": "https://localhost:8080/",
          "height": 335
        },
        "id": "jdpCTa7oqdJb",
        "outputId": "c1c9c4d8-3917-40ec-ff1e-b25dea4bb809"
      },
      "execution_count": null,
      "outputs": [
        {
          "output_type": "execute_result",
          "data": {
            "text/plain": [
              "        Tourist ID          Age  Preferred Tour Duration  Tour Duration  \\\n",
              "count  5000.000000  5000.000000               5000.00000     5000.00000   \n",
              "mean   2500.500000    43.886000                  5.52280        3.97720   \n",
              "std    1443.520003    15.268858                  1.71186        1.99967   \n",
              "min       1.000000    18.000000                  3.00000        1.00000   \n",
              "25%    1250.750000    30.000000                  4.00000        2.00000   \n",
              "50%    2500.500000    44.000000                  6.00000        4.00000   \n",
              "75%    3750.250000    57.000000                  7.00000        5.00000   \n",
              "max    5000.000000    70.000000                  8.00000        9.00000   \n",
              "\n",
              "           Route ID  Tourist Rating  System Response Time  \\\n",
              "count  5.000000e+03     5000.000000           5000.000000   \n",
              "mean   2.500500e+06        3.002740              3.238802   \n",
              "std    1.443520e+06        1.164353              1.016123   \n",
              "min    1.000000e+03        1.000000              1.500000   \n",
              "25%    1.250750e+06        2.000000              2.360000   \n",
              "50%    2.500500e+06        3.000000              3.230000   \n",
              "75%    3.750250e+06        4.000000              4.130000   \n",
              "max    5.000000e+06        5.000000              5.000000   \n",
              "\n",
              "       Recommendation Accuracy  VR Experience Quality  Satisfaction  \n",
              "count              5000.000000            5000.000000   5000.000000  \n",
              "mean                 92.492200               4.493160      3.534200  \n",
              "std                   4.616081               0.290596      0.736029  \n",
              "min                  85.000000               4.000000      3.000000  \n",
              "25%                  88.000000               4.200000      3.000000  \n",
              "50%                  92.000000               4.500000      3.000000  \n",
              "75%                  97.000000               4.700000      4.000000  \n",
              "max                 100.000000               5.000000      5.000000  "
            ],
            "text/html": [
              "\n",
              "  <div id=\"df-5d26284f-d58f-4be7-879b-777ab3410a51\" class=\"colab-df-container\">\n",
              "    <div>\n",
              "<style scoped>\n",
              "    .dataframe tbody tr th:only-of-type {\n",
              "        vertical-align: middle;\n",
              "    }\n",
              "\n",
              "    .dataframe tbody tr th {\n",
              "        vertical-align: top;\n",
              "    }\n",
              "\n",
              "    .dataframe thead th {\n",
              "        text-align: right;\n",
              "    }\n",
              "</style>\n",
              "<table border=\"1\" class=\"dataframe\">\n",
              "  <thead>\n",
              "    <tr style=\"text-align: right;\">\n",
              "      <th></th>\n",
              "      <th>Tourist ID</th>\n",
              "      <th>Age</th>\n",
              "      <th>Preferred Tour Duration</th>\n",
              "      <th>Tour Duration</th>\n",
              "      <th>Route ID</th>\n",
              "      <th>Tourist Rating</th>\n",
              "      <th>System Response Time</th>\n",
              "      <th>Recommendation Accuracy</th>\n",
              "      <th>VR Experience Quality</th>\n",
              "      <th>Satisfaction</th>\n",
              "    </tr>\n",
              "  </thead>\n",
              "  <tbody>\n",
              "    <tr>\n",
              "      <th>count</th>\n",
              "      <td>5000.000000</td>\n",
              "      <td>5000.000000</td>\n",
              "      <td>5000.00000</td>\n",
              "      <td>5000.00000</td>\n",
              "      <td>5.000000e+03</td>\n",
              "      <td>5000.000000</td>\n",
              "      <td>5000.000000</td>\n",
              "      <td>5000.000000</td>\n",
              "      <td>5000.000000</td>\n",
              "      <td>5000.000000</td>\n",
              "    </tr>\n",
              "    <tr>\n",
              "      <th>mean</th>\n",
              "      <td>2500.500000</td>\n",
              "      <td>43.886000</td>\n",
              "      <td>5.52280</td>\n",
              "      <td>3.97720</td>\n",
              "      <td>2.500500e+06</td>\n",
              "      <td>3.002740</td>\n",
              "      <td>3.238802</td>\n",
              "      <td>92.492200</td>\n",
              "      <td>4.493160</td>\n",
              "      <td>3.534200</td>\n",
              "    </tr>\n",
              "    <tr>\n",
              "      <th>std</th>\n",
              "      <td>1443.520003</td>\n",
              "      <td>15.268858</td>\n",
              "      <td>1.71186</td>\n",
              "      <td>1.99967</td>\n",
              "      <td>1.443520e+06</td>\n",
              "      <td>1.164353</td>\n",
              "      <td>1.016123</td>\n",
              "      <td>4.616081</td>\n",
              "      <td>0.290596</td>\n",
              "      <td>0.736029</td>\n",
              "    </tr>\n",
              "    <tr>\n",
              "      <th>min</th>\n",
              "      <td>1.000000</td>\n",
              "      <td>18.000000</td>\n",
              "      <td>3.00000</td>\n",
              "      <td>1.00000</td>\n",
              "      <td>1.000000e+03</td>\n",
              "      <td>1.000000</td>\n",
              "      <td>1.500000</td>\n",
              "      <td>85.000000</td>\n",
              "      <td>4.000000</td>\n",
              "      <td>3.000000</td>\n",
              "    </tr>\n",
              "    <tr>\n",
              "      <th>25%</th>\n",
              "      <td>1250.750000</td>\n",
              "      <td>30.000000</td>\n",
              "      <td>4.00000</td>\n",
              "      <td>2.00000</td>\n",
              "      <td>1.250750e+06</td>\n",
              "      <td>2.000000</td>\n",
              "      <td>2.360000</td>\n",
              "      <td>88.000000</td>\n",
              "      <td>4.200000</td>\n",
              "      <td>3.000000</td>\n",
              "    </tr>\n",
              "    <tr>\n",
              "      <th>50%</th>\n",
              "      <td>2500.500000</td>\n",
              "      <td>44.000000</td>\n",
              "      <td>6.00000</td>\n",
              "      <td>4.00000</td>\n",
              "      <td>2.500500e+06</td>\n",
              "      <td>3.000000</td>\n",
              "      <td>3.230000</td>\n",
              "      <td>92.000000</td>\n",
              "      <td>4.500000</td>\n",
              "      <td>3.000000</td>\n",
              "    </tr>\n",
              "    <tr>\n",
              "      <th>75%</th>\n",
              "      <td>3750.250000</td>\n",
              "      <td>57.000000</td>\n",
              "      <td>7.00000</td>\n",
              "      <td>5.00000</td>\n",
              "      <td>3.750250e+06</td>\n",
              "      <td>4.000000</td>\n",
              "      <td>4.130000</td>\n",
              "      <td>97.000000</td>\n",
              "      <td>4.700000</td>\n",
              "      <td>4.000000</td>\n",
              "    </tr>\n",
              "    <tr>\n",
              "      <th>max</th>\n",
              "      <td>5000.000000</td>\n",
              "      <td>70.000000</td>\n",
              "      <td>8.00000</td>\n",
              "      <td>9.00000</td>\n",
              "      <td>5.000000e+06</td>\n",
              "      <td>5.000000</td>\n",
              "      <td>5.000000</td>\n",
              "      <td>100.000000</td>\n",
              "      <td>5.000000</td>\n",
              "      <td>5.000000</td>\n",
              "    </tr>\n",
              "  </tbody>\n",
              "</table>\n",
              "</div>\n",
              "    <div class=\"colab-df-buttons\">\n",
              "\n",
              "  <div class=\"colab-df-container\">\n",
              "    <button class=\"colab-df-convert\" onclick=\"convertToInteractive('df-5d26284f-d58f-4be7-879b-777ab3410a51')\"\n",
              "            title=\"Convert this dataframe to an interactive table.\"\n",
              "            style=\"display:none;\">\n",
              "\n",
              "  <svg xmlns=\"http://www.w3.org/2000/svg\" height=\"24px\" viewBox=\"0 -960 960 960\">\n",
              "    <path d=\"M120-120v-720h720v720H120Zm60-500h600v-160H180v160Zm220 220h160v-160H400v160Zm0 220h160v-160H400v160ZM180-400h160v-160H180v160Zm440 0h160v-160H620v160ZM180-180h160v-160H180v160Zm440 0h160v-160H620v160Z\"/>\n",
              "  </svg>\n",
              "    </button>\n",
              "\n",
              "  <style>\n",
              "    .colab-df-container {\n",
              "      display:flex;\n",
              "      gap: 12px;\n",
              "    }\n",
              "\n",
              "    .colab-df-convert {\n",
              "      background-color: #E8F0FE;\n",
              "      border: none;\n",
              "      border-radius: 50%;\n",
              "      cursor: pointer;\n",
              "      display: none;\n",
              "      fill: #1967D2;\n",
              "      height: 32px;\n",
              "      padding: 0 0 0 0;\n",
              "      width: 32px;\n",
              "    }\n",
              "\n",
              "    .colab-df-convert:hover {\n",
              "      background-color: #E2EBFA;\n",
              "      box-shadow: 0px 1px 2px rgba(60, 64, 67, 0.3), 0px 1px 3px 1px rgba(60, 64, 67, 0.15);\n",
              "      fill: #174EA6;\n",
              "    }\n",
              "\n",
              "    .colab-df-buttons div {\n",
              "      margin-bottom: 4px;\n",
              "    }\n",
              "\n",
              "    [theme=dark] .colab-df-convert {\n",
              "      background-color: #3B4455;\n",
              "      fill: #D2E3FC;\n",
              "    }\n",
              "\n",
              "    [theme=dark] .colab-df-convert:hover {\n",
              "      background-color: #434B5C;\n",
              "      box-shadow: 0px 1px 3px 1px rgba(0, 0, 0, 0.15);\n",
              "      filter: drop-shadow(0px 1px 2px rgba(0, 0, 0, 0.3));\n",
              "      fill: #FFFFFF;\n",
              "    }\n",
              "  </style>\n",
              "\n",
              "    <script>\n",
              "      const buttonEl =\n",
              "        document.querySelector('#df-5d26284f-d58f-4be7-879b-777ab3410a51 button.colab-df-convert');\n",
              "      buttonEl.style.display =\n",
              "        google.colab.kernel.accessAllowed ? 'block' : 'none';\n",
              "\n",
              "      async function convertToInteractive(key) {\n",
              "        const element = document.querySelector('#df-5d26284f-d58f-4be7-879b-777ab3410a51');\n",
              "        const dataTable =\n",
              "          await google.colab.kernel.invokeFunction('convertToInteractive',\n",
              "                                                    [key], {});\n",
              "        if (!dataTable) return;\n",
              "\n",
              "        const docLinkHtml = 'Like what you see? Visit the ' +\n",
              "          '<a target=\"_blank\" href=https://colab.research.google.com/notebooks/data_table.ipynb>data table notebook</a>'\n",
              "          + ' to learn more about interactive tables.';\n",
              "        element.innerHTML = '';\n",
              "        dataTable['output_type'] = 'display_data';\n",
              "        await google.colab.output.renderOutput(dataTable, element);\n",
              "        const docLink = document.createElement('div');\n",
              "        docLink.innerHTML = docLinkHtml;\n",
              "        element.appendChild(docLink);\n",
              "      }\n",
              "    </script>\n",
              "  </div>\n",
              "\n",
              "\n",
              "<div id=\"df-d76a8e82-c1fd-4bfb-a580-afe65d49b2ff\">\n",
              "  <button class=\"colab-df-quickchart\" onclick=\"quickchart('df-d76a8e82-c1fd-4bfb-a580-afe65d49b2ff')\"\n",
              "            title=\"Suggest charts\"\n",
              "            style=\"display:none;\">\n",
              "\n",
              "<svg xmlns=\"http://www.w3.org/2000/svg\" height=\"24px\"viewBox=\"0 0 24 24\"\n",
              "     width=\"24px\">\n",
              "    <g>\n",
              "        <path d=\"M19 3H5c-1.1 0-2 .9-2 2v14c0 1.1.9 2 2 2h14c1.1 0 2-.9 2-2V5c0-1.1-.9-2-2-2zM9 17H7v-7h2v7zm4 0h-2V7h2v10zm4 0h-2v-4h2v4z\"/>\n",
              "    </g>\n",
              "</svg>\n",
              "  </button>\n",
              "\n",
              "<style>\n",
              "  .colab-df-quickchart {\n",
              "      --bg-color: #E8F0FE;\n",
              "      --fill-color: #1967D2;\n",
              "      --hover-bg-color: #E2EBFA;\n",
              "      --hover-fill-color: #174EA6;\n",
              "      --disabled-fill-color: #AAA;\n",
              "      --disabled-bg-color: #DDD;\n",
              "  }\n",
              "\n",
              "  [theme=dark] .colab-df-quickchart {\n",
              "      --bg-color: #3B4455;\n",
              "      --fill-color: #D2E3FC;\n",
              "      --hover-bg-color: #434B5C;\n",
              "      --hover-fill-color: #FFFFFF;\n",
              "      --disabled-bg-color: #3B4455;\n",
              "      --disabled-fill-color: #666;\n",
              "  }\n",
              "\n",
              "  .colab-df-quickchart {\n",
              "    background-color: var(--bg-color);\n",
              "    border: none;\n",
              "    border-radius: 50%;\n",
              "    cursor: pointer;\n",
              "    display: none;\n",
              "    fill: var(--fill-color);\n",
              "    height: 32px;\n",
              "    padding: 0;\n",
              "    width: 32px;\n",
              "  }\n",
              "\n",
              "  .colab-df-quickchart:hover {\n",
              "    background-color: var(--hover-bg-color);\n",
              "    box-shadow: 0 1px 2px rgba(60, 64, 67, 0.3), 0 1px 3px 1px rgba(60, 64, 67, 0.15);\n",
              "    fill: var(--button-hover-fill-color);\n",
              "  }\n",
              "\n",
              "  .colab-df-quickchart-complete:disabled,\n",
              "  .colab-df-quickchart-complete:disabled:hover {\n",
              "    background-color: var(--disabled-bg-color);\n",
              "    fill: var(--disabled-fill-color);\n",
              "    box-shadow: none;\n",
              "  }\n",
              "\n",
              "  .colab-df-spinner {\n",
              "    border: 2px solid var(--fill-color);\n",
              "    border-color: transparent;\n",
              "    border-bottom-color: var(--fill-color);\n",
              "    animation:\n",
              "      spin 1s steps(1) infinite;\n",
              "  }\n",
              "\n",
              "  @keyframes spin {\n",
              "    0% {\n",
              "      border-color: transparent;\n",
              "      border-bottom-color: var(--fill-color);\n",
              "      border-left-color: var(--fill-color);\n",
              "    }\n",
              "    20% {\n",
              "      border-color: transparent;\n",
              "      border-left-color: var(--fill-color);\n",
              "      border-top-color: var(--fill-color);\n",
              "    }\n",
              "    30% {\n",
              "      border-color: transparent;\n",
              "      border-left-color: var(--fill-color);\n",
              "      border-top-color: var(--fill-color);\n",
              "      border-right-color: var(--fill-color);\n",
              "    }\n",
              "    40% {\n",
              "      border-color: transparent;\n",
              "      border-right-color: var(--fill-color);\n",
              "      border-top-color: var(--fill-color);\n",
              "    }\n",
              "    60% {\n",
              "      border-color: transparent;\n",
              "      border-right-color: var(--fill-color);\n",
              "    }\n",
              "    80% {\n",
              "      border-color: transparent;\n",
              "      border-right-color: var(--fill-color);\n",
              "      border-bottom-color: var(--fill-color);\n",
              "    }\n",
              "    90% {\n",
              "      border-color: transparent;\n",
              "      border-bottom-color: var(--fill-color);\n",
              "    }\n",
              "  }\n",
              "</style>\n",
              "\n",
              "  <script>\n",
              "    async function quickchart(key) {\n",
              "      const quickchartButtonEl =\n",
              "        document.querySelector('#' + key + ' button');\n",
              "      quickchartButtonEl.disabled = true;  // To prevent multiple clicks.\n",
              "      quickchartButtonEl.classList.add('colab-df-spinner');\n",
              "      try {\n",
              "        const charts = await google.colab.kernel.invokeFunction(\n",
              "            'suggestCharts', [key], {});\n",
              "      } catch (error) {\n",
              "        console.error('Error during call to suggestCharts:', error);\n",
              "      }\n",
              "      quickchartButtonEl.classList.remove('colab-df-spinner');\n",
              "      quickchartButtonEl.classList.add('colab-df-quickchart-complete');\n",
              "    }\n",
              "    (() => {\n",
              "      let quickchartButtonEl =\n",
              "        document.querySelector('#df-d76a8e82-c1fd-4bfb-a580-afe65d49b2ff button');\n",
              "      quickchartButtonEl.style.display =\n",
              "        google.colab.kernel.accessAllowed ? 'block' : 'none';\n",
              "    })();\n",
              "  </script>\n",
              "</div>\n",
              "\n",
              "    </div>\n",
              "  </div>\n"
            ],
            "application/vnd.google.colaboratory.intrinsic+json": {
              "type": "dataframe",
              "summary": "{\n  \"name\": \"Tourism\",\n  \"rows\": 8,\n  \"fields\": [\n    {\n      \"column\": \"Tourist ID\",\n      \"properties\": {\n        \"dtype\": \"number\",\n        \"std\": 1801.7194007539213,\n        \"min\": 1.0,\n        \"max\": 5000.0,\n        \"num_unique_values\": 6,\n        \"samples\": [\n          5000.0,\n          2500.5,\n          3750.25\n        ],\n        \"semantic_type\": \"\",\n        \"description\": \"\"\n      }\n    },\n    {\n      \"column\": \"Age\",\n      \"properties\": {\n        \"dtype\": \"number\",\n        \"std\": 1753.816380704714,\n        \"min\": 15.268858228640415,\n        \"max\": 5000.0,\n        \"num_unique_values\": 8,\n        \"samples\": [\n          43.886,\n          44.0,\n          5000.0\n        ],\n        \"semantic_type\": \"\",\n        \"description\": \"\"\n      }\n    },\n    {\n      \"column\": \"Preferred Tour Duration\",\n      \"properties\": {\n        \"dtype\": \"number\",\n        \"std\": 1765.9885504014048,\n        \"min\": 1.71186046547336,\n        \"max\": 5000.0,\n        \"num_unique_values\": 8,\n        \"samples\": [\n          5.5228,\n          6.0,\n          5000.0\n        ],\n        \"semantic_type\": \"\",\n        \"description\": \"\"\n      }\n    },\n    {\n      \"column\": \"Tour Duration\",\n      \"properties\": {\n        \"dtype\": \"number\",\n        \"std\": 1766.406148104404,\n        \"min\": 1.0,\n        \"max\": 5000.0,\n        \"num_unique_values\": 8,\n        \"samples\": [\n          3.9772,\n          4.0,\n          5000.0\n        ],\n        \"semantic_type\": \"\",\n        \"description\": \"\"\n      }\n    },\n    {\n      \"column\": \"Route ID\",\n      \"properties\": {\n        \"dtype\": \"number\",\n        \"std\": 1747895.1963728843,\n        \"min\": 1000.0,\n        \"max\": 5000000.0,\n        \"num_unique_values\": 7,\n        \"samples\": [\n          5000.0,\n          2500500.0,\n          3750250.0\n        ],\n        \"semantic_type\": \"\",\n        \"description\": \"\"\n      }\n    },\n    {\n      \"column\": \"Tourist Rating\",\n      \"properties\": {\n        \"dtype\": \"number\",\n        \"std\": 1766.7993896907124,\n        \"min\": 1.0,\n        \"max\": 5000.0,\n        \"num_unique_values\": 8,\n        \"samples\": [\n          3.00274,\n          3.0,\n          5000.0\n        ],\n        \"semantic_type\": \"\",\n        \"description\": \"\"\n      }\n    },\n    {\n      \"column\": \"System Response Time\",\n      \"properties\": {\n        \"dtype\": \"number\",\n        \"std\": 1766.7332959133494,\n        \"min\": 1.0161233616708274,\n        \"max\": 5000.0,\n        \"num_unique_values\": 8,\n        \"samples\": [\n          3.2388019999999997,\n          3.23,\n          5000.0\n        ],\n        \"semantic_type\": \"\",\n        \"description\": \"\"\n      }\n    },\n    {\n      \"column\": \"Recommendation Accuracy\",\n      \"properties\": {\n        \"dtype\": \"number\",\n        \"std\": 1739.8053054345585,\n        \"min\": 4.616080675222252,\n        \"max\": 5000.0,\n        \"num_unique_values\": 8,\n        \"samples\": [\n          92.4922,\n          92.0,\n          5000.0\n        ],\n        \"semantic_type\": \"\",\n        \"description\": \"\"\n      }\n    },\n    {\n      \"column\": \"VR Experience Quality\",\n      \"properties\": {\n        \"dtype\": \"number\",\n        \"std\": 1766.3946003173157,\n        \"min\": 0.29059611769727134,\n        \"max\": 5000.0,\n        \"num_unique_values\": 8,\n        \"samples\": [\n          4.49316,\n          4.5,\n          5000.0\n        ],\n        \"semantic_type\": \"\",\n        \"description\": \"\"\n      }\n    },\n    {\n      \"column\": \"Satisfaction\",\n      \"properties\": {\n        \"dtype\": \"number\",\n        \"std\": 1766.6425481547424,\n        \"min\": 0.7360290128395618,\n        \"max\": 5000.0,\n        \"num_unique_values\": 6,\n        \"samples\": [\n          5000.0,\n          3.5342,\n          5.0\n        ],\n        \"semantic_type\": \"\",\n        \"description\": \"\"\n      }\n    }\n  ]\n}"
            }
          },
          "metadata": {},
          "execution_count": 35
        }
      ]
    },
    {
      "cell_type": "markdown",
      "source": [
        "Displaying number of rows and columns of dataset"
      ],
      "metadata": {
        "id": "Pa5yse1Uqj9X"
      }
    },
    {
      "cell_type": "code",
      "source": [
        "Tourism.shape"
      ],
      "metadata": {
        "colab": {
          "base_uri": "https://localhost:8080/"
        },
        "id": "8cyVAxyLqpX2",
        "outputId": "60f2cb8d-0158-48ba-e581-be612c6bb855"
      },
      "execution_count": null,
      "outputs": [
        {
          "output_type": "execute_result",
          "data": {
            "text/plain": [
              "(5000, 14)"
            ]
          },
          "metadata": {},
          "execution_count": 36
        }
      ]
    },
    {
      "cell_type": "markdown",
      "source": [
        "Returning datatype of each column"
      ],
      "metadata": {
        "id": "xwf32hh2q3ks"
      }
    },
    {
      "cell_type": "code",
      "source": [
        "Tourism.dtypes"
      ],
      "metadata": {
        "colab": {
          "base_uri": "https://localhost:8080/",
          "height": 523
        },
        "id": "RGFQmDQiq8uk",
        "outputId": "452ec3eb-b2de-4239-bbd4-d460c545fe75"
      },
      "execution_count": null,
      "outputs": [
        {
          "output_type": "execute_result",
          "data": {
            "text/plain": [
              "Tourist ID                   int64\n",
              "Age                          int64\n",
              "Interests                   object\n",
              "Preferred Tour Duration      int64\n",
              "Accessibility                 bool\n",
              "Site Name                   object\n",
              "Sites Visited               object\n",
              "Tour Duration                int64\n",
              "Route ID                     int64\n",
              "Tourist Rating             float64\n",
              "System Response Time       float64\n",
              "Recommendation Accuracy      int64\n",
              "VR Experience Quality      float64\n",
              "Satisfaction                 int64\n",
              "dtype: object"
            ],
            "text/html": [
              "<div>\n",
              "<style scoped>\n",
              "    .dataframe tbody tr th:only-of-type {\n",
              "        vertical-align: middle;\n",
              "    }\n",
              "\n",
              "    .dataframe tbody tr th {\n",
              "        vertical-align: top;\n",
              "    }\n",
              "\n",
              "    .dataframe thead th {\n",
              "        text-align: right;\n",
              "    }\n",
              "</style>\n",
              "<table border=\"1\" class=\"dataframe\">\n",
              "  <thead>\n",
              "    <tr style=\"text-align: right;\">\n",
              "      <th></th>\n",
              "      <th>0</th>\n",
              "    </tr>\n",
              "  </thead>\n",
              "  <tbody>\n",
              "    <tr>\n",
              "      <th>Tourist ID</th>\n",
              "      <td>int64</td>\n",
              "    </tr>\n",
              "    <tr>\n",
              "      <th>Age</th>\n",
              "      <td>int64</td>\n",
              "    </tr>\n",
              "    <tr>\n",
              "      <th>Interests</th>\n",
              "      <td>object</td>\n",
              "    </tr>\n",
              "    <tr>\n",
              "      <th>Preferred Tour Duration</th>\n",
              "      <td>int64</td>\n",
              "    </tr>\n",
              "    <tr>\n",
              "      <th>Accessibility</th>\n",
              "      <td>bool</td>\n",
              "    </tr>\n",
              "    <tr>\n",
              "      <th>Site Name</th>\n",
              "      <td>object</td>\n",
              "    </tr>\n",
              "    <tr>\n",
              "      <th>Sites Visited</th>\n",
              "      <td>object</td>\n",
              "    </tr>\n",
              "    <tr>\n",
              "      <th>Tour Duration</th>\n",
              "      <td>int64</td>\n",
              "    </tr>\n",
              "    <tr>\n",
              "      <th>Route ID</th>\n",
              "      <td>int64</td>\n",
              "    </tr>\n",
              "    <tr>\n",
              "      <th>Tourist Rating</th>\n",
              "      <td>float64</td>\n",
              "    </tr>\n",
              "    <tr>\n",
              "      <th>System Response Time</th>\n",
              "      <td>float64</td>\n",
              "    </tr>\n",
              "    <tr>\n",
              "      <th>Recommendation Accuracy</th>\n",
              "      <td>int64</td>\n",
              "    </tr>\n",
              "    <tr>\n",
              "      <th>VR Experience Quality</th>\n",
              "      <td>float64</td>\n",
              "    </tr>\n",
              "    <tr>\n",
              "      <th>Satisfaction</th>\n",
              "      <td>int64</td>\n",
              "    </tr>\n",
              "  </tbody>\n",
              "</table>\n",
              "</div><br><label><b>dtype:</b> object</label>"
            ]
          },
          "metadata": {},
          "execution_count": 37
        }
      ]
    },
    {
      "cell_type": "markdown",
      "source": [
        "Displaying number of elements which is the number of rows * number of columns"
      ],
      "metadata": {
        "id": "_UOgPWYrrCCy"
      }
    },
    {
      "cell_type": "code",
      "source": [
        "Tourism.size"
      ],
      "metadata": {
        "colab": {
          "base_uri": "https://localhost:8080/"
        },
        "id": "CyKLl2nYrRaV",
        "outputId": "b230c76f-0963-4af7-d06c-102541acb014"
      },
      "execution_count": null,
      "outputs": [
        {
          "output_type": "execute_result",
          "data": {
            "text/plain": [
              "70000"
            ]
          },
          "metadata": {},
          "execution_count": 38
        }
      ]
    },
    {
      "cell_type": "markdown",
      "source": [
        "Displaying exact column names from dataset"
      ],
      "metadata": {
        "id": "50iLjmLjrtwl"
      }
    },
    {
      "cell_type": "code",
      "source": [
        "Tourism.columns"
      ],
      "metadata": {
        "colab": {
          "base_uri": "https://localhost:8080/"
        },
        "id": "H9Z8DdCDr1Ue",
        "outputId": "53415e4f-6244-4dfe-e650-ace3f154791d"
      },
      "execution_count": null,
      "outputs": [
        {
          "output_type": "execute_result",
          "data": {
            "text/plain": [
              "Index(['Tourist ID', 'Age', 'Interests', 'Preferred Tour Duration',\n",
              "       'Accessibility', 'Site Name', 'Sites Visited', 'Tour Duration',\n",
              "       'Route ID', 'Tourist Rating', 'System Response Time',\n",
              "       'Recommendation Accuracy', 'VR Experience Quality', 'Satisfaction'],\n",
              "      dtype='object')"
            ]
          },
          "metadata": {},
          "execution_count": 14
        }
      ]
    },
    {
      "cell_type": "markdown",
      "source": [
        "DATA CLEANING"
      ],
      "metadata": {
        "id": "hcAkswQOs1Nx"
      }
    },
    {
      "cell_type": "markdown",
      "source": [
        "checking for missing values"
      ],
      "metadata": {
        "id": "Tqsbq7D2vfvH"
      }
    },
    {
      "cell_type": "code",
      "source": [
        "print(Tourism.isnull().sum())"
      ],
      "metadata": {
        "colab": {
          "base_uri": "https://localhost:8080/"
        },
        "id": "s3fXYURhvv0f",
        "outputId": "1a136585-c412-4137-eb6d-c33a52a37d49"
      },
      "execution_count": null,
      "outputs": [
        {
          "output_type": "stream",
          "name": "stdout",
          "text": [
            "Tourist ID                 0\n",
            "Age                        0\n",
            "Interests                  0\n",
            "Preferred Tour Duration    0\n",
            "Accessibility              0\n",
            "Site Name                  0\n",
            "Sites Visited              0\n",
            "Tour Duration              0\n",
            "Route ID                   0\n",
            "Tourist Rating             0\n",
            "System Response Time       0\n",
            "Recommendation Accuracy    0\n",
            "VR Experience Quality      0\n",
            "Satisfaction               0\n",
            "dtype: int64\n"
          ]
        }
      ]
    },
    {
      "cell_type": "markdown",
      "source": [
        "checking and Removing for dulpicates"
      ],
      "metadata": {
        "id": "awr_B-E6wg6t"
      }
    },
    {
      "cell_type": "code",
      "source": [
        "duplicates = Tourism.duplicated().sum()\n",
        "print(f\"Duplicate rows: {duplicates}\")\n",
        "Tourism.drop_duplicates(inplace=True)"
      ],
      "metadata": {
        "colab": {
          "base_uri": "https://localhost:8080/"
        },
        "id": "L6usHKQEwlrg",
        "outputId": "43b44ed0-6237-4ef5-d14f-1db9212ee38a"
      },
      "execution_count": null,
      "outputs": [
        {
          "output_type": "stream",
          "name": "stdout",
          "text": [
            "Duplicate rows: 0\n"
          ]
        }
      ]
    },
    {
      "cell_type": "markdown",
      "source": [
        "Trimming whiteSpace and standardizing casing"
      ],
      "metadata": {
        "id": "nN3jKZ-8xg_E"
      }
    },
    {
      "cell_type": "code",
      "source": [
        "Tourism['Interests'] = Tourism['Interests'].str.strip().str.title()\n",
        "Tourism['Site Name'] = Tourism['Site Name'].str.strip().str.title()"
      ],
      "metadata": {
        "id": "qYQheU6QxoZZ"
      },
      "execution_count": null,
      "outputs": []
    },
    {
      "cell_type": "markdown",
      "source": [
        "Ensuring Accesibility is a Boolean"
      ],
      "metadata": {
        "id": "bPMWgVl3yreG"
      }
    },
    {
      "cell_type": "code",
      "source": [
        "Tourism['Accessibility'] = Tourism['Accessibility'].astype(bool)"
      ],
      "metadata": {
        "id": "opoE50_jy2eH"
      },
      "execution_count": null,
      "outputs": []
    },
    {
      "cell_type": "markdown",
      "source": [
        "Calculating Mean, Meadian and Mode"
      ],
      "metadata": {
        "id": "o-2y1PoEylFZ"
      }
    },
    {
      "cell_type": "code",
      "source": [
        "numeric_cols = [\n",
        "    \"Age\",\n",
        "    \"Preferred Tour Duration\",\n",
        "    \"Tour Duration\",\n",
        "    \"Tourist Rating\",\n",
        "    \"System Response Time\",\n",
        "    \"Recommendation Accuracy\",\n",
        "    \"VR Experience Quality\",\n",
        "    \"Satisfaction\"\n",
        "]"
      ],
      "metadata": {
        "id": "6VoA4QiM0tPs"
      },
      "execution_count": null,
      "outputs": []
    },
    {
      "cell_type": "markdown",
      "source": [
        "MEAN"
      ],
      "metadata": {
        "id": "QmS16NtOyq-O"
      }
    },
    {
      "cell_type": "code",
      "source": [
        "mean_values = Tourism[numeric_cols].mean()"
      ],
      "metadata": {
        "id": "LOFKJSUyysxK"
      },
      "execution_count": null,
      "outputs": []
    },
    {
      "cell_type": "markdown",
      "source": [
        "MEDIAN"
      ],
      "metadata": {
        "id": "1aDpJz3QzoW9"
      }
    },
    {
      "cell_type": "code",
      "source": [
        "median_values = Tourism[numeric_cols].median()"
      ],
      "metadata": {
        "id": "6czxczczzqfE"
      },
      "execution_count": null,
      "outputs": []
    },
    {
      "cell_type": "markdown",
      "source": [
        "MODE"
      ],
      "metadata": {
        "id": "M3rBMTpDzwtE"
      }
    },
    {
      "cell_type": "code",
      "source": [
        "mode_values = Tourism[numeric_cols].mode().iloc[0]"
      ],
      "metadata": {
        "id": "xU-f1lAhzyOm"
      },
      "execution_count": null,
      "outputs": []
    },
    {
      "cell_type": "markdown",
      "source": [
        "Combing result into 1 dataframe"
      ],
      "metadata": {
        "id": "M_VnGonf1U8L"
      }
    },
    {
      "cell_type": "code",
      "source": [
        "summary_stats = pd.DataFrame({\n",
        "    \"Mean\": mean_values,\n",
        "    \"Median\": median_values,\n",
        "    \"Mode\": mode_values\n",
        "})"
      ],
      "metadata": {
        "id": "mhQR3hAk1TgJ"
      },
      "execution_count": null,
      "outputs": []
    },
    {
      "cell_type": "markdown",
      "source": [
        "Round result for readability and display"
      ],
      "metadata": {
        "id": "1uNLOWA_1jL3"
      }
    },
    {
      "cell_type": "code",
      "source": [
        "print(summary_stats.round(2))"
      ],
      "metadata": {
        "colab": {
          "base_uri": "https://localhost:8080/"
        },
        "id": "x_c7uNJ91nYf",
        "outputId": "e525312c-8383-48e2-bf42-a4f7f45b3ce0"
      },
      "execution_count": null,
      "outputs": [
        {
          "output_type": "stream",
          "name": "stdout",
          "text": [
            "                          Mean  Median   Mode\n",
            "Age                      43.89   44.00  25.00\n",
            "Preferred Tour Duration   5.52    6.00   6.00\n",
            "Tour Duration             3.98    4.00   3.00\n",
            "Tourist Rating            3.00    3.00   4.50\n",
            "System Response Time      3.24    3.23   2.91\n",
            "Recommendation Accuracy  92.49   92.00  87.00\n",
            "VR Experience Quality     4.49    4.50   4.30\n",
            "Satisfaction              3.53    3.00   3.00\n"
          ]
        }
      ]
    },
    {
      "cell_type": "markdown",
      "source": [
        "OUTLIER DETECTION"
      ],
      "metadata": {
        "id": "w2DBv3Gg7LC3"
      }
    },
    {
      "cell_type": "markdown",
      "source": [
        "SELECTING NUMERIC COLUMNS FOR OUTLIER DETECTION"
      ],
      "metadata": {
        "id": "lwQ52lIB8Ils"
      }
    },
    {
      "cell_type": "code",
      "source": [
        "numeric_cols = [\n",
        "    \"Age\", \"Preferred Tour Duration\", \"Tour Duration\",\n",
        "    \"Tourist Rating\", \"System Response Time\",\n",
        "    \"Recommendation Accuracy\", \"VR Experience Quality\", \"Satisfaction\"\n",
        "]"
      ],
      "metadata": {
        "id": "XsBaihmc7OHN"
      },
      "execution_count": null,
      "outputs": []
    },
    {
      "cell_type": "markdown",
      "source": [
        "Defining the  IQR-based outlier removal function"
      ],
      "metadata": {
        "id": "T2qC-zdN8Te-"
      }
    },
    {
      "cell_type": "code",
      "source": [
        "def remove_outliers_iqr(dataframe, columns):\n",
        "    df_clean = dataframe.copy()\n",
        "    for col in columns:\n",
        "        Q1 = df_clean[col].quantile(0.25)\n",
        "        Q3 = df_clean[col].quantile(0.75)\n",
        "        IQR = Q3 - Q1\n",
        "        lower_bound = Q1 - 1.5 * IQR\n",
        "        upper_bound = Q3 + 1.5 * IQR\n",
        "        # Keep only values within bounds\n",
        "        df_clean = df_clean[(df_clean[col] >= lower_bound) & (df_clean[col] <= upper_bound)]\n",
        "    return df_clean"
      ],
      "metadata": {
        "id": "uwOf4kue7XyX"
      },
      "execution_count": null,
      "outputs": []
    },
    {
      "cell_type": "markdown",
      "source": [
        "BEFORE CLEANING"
      ],
      "metadata": {
        "id": "2wRbCMTt7qr5"
      }
    },
    {
      "cell_type": "code",
      "source": [
        "print(\"Original dataset shape:\", Tourism.shape)"
      ],
      "metadata": {
        "id": "fgn8hmyQ7hRG"
      },
      "execution_count": null,
      "outputs": []
    },
    {
      "cell_type": "markdown",
      "source": [
        "Remove outliers"
      ],
      "metadata": {
        "id": "gvQM82J17t-w"
      }
    },
    {
      "cell_type": "code",
      "source": [
        "df_cleaned = remove_outliers_iqr(Tourism, numeric_cols)"
      ],
      "metadata": {
        "id": "u11Zvq217zxY"
      },
      "execution_count": null,
      "outputs": []
    },
    {
      "cell_type": "markdown",
      "source": [
        "After Cleaning"
      ],
      "metadata": {
        "id": "wo_trU3k7-SV"
      }
    },
    {
      "cell_type": "code",
      "source": [
        "\n",
        "print(\"Dataset shape after removing outliers:\", df_cleaned.shape)"
      ],
      "metadata": {
        "colab": {
          "base_uri": "https://localhost:8080/"
        },
        "id": "IY5Wt3j-8A4Q",
        "outputId": "ba46da26-faee-4bc8-b92c-515fbdb50586"
      },
      "execution_count": null,
      "outputs": [
        {
          "output_type": "stream",
          "name": "stdout",
          "text": [
            "Dataset shape after removing outliers: (5000, 14)\n"
          ]
        }
      ]
    },
    {
      "cell_type": "markdown",
      "source": [
        "DATA SLICING AND DATA INSIGHTS"
      ],
      "metadata": {
        "id": "5TJ1hKlizPjV"
      }
    },
    {
      "cell_type": "markdown",
      "source": [
        "Accesing and displaying Sites Visited and Accessibilitiy for Tourist with index position from 100 to 110"
      ],
      "metadata": {
        "id": "49QH38CAtv8r"
      }
    },
    {
      "cell_type": "code",
      "source": [
        "print(\"Accesing and displaying Sites Visited and Accessibilitiy for Tourist with index position from 100 to 110\")\n",
        "print(Tourism.loc[100:110, ['Site Name', 'Accessibility']])"
      ],
      "metadata": {
        "id": "EOvzYsImt-pO",
        "colab": {
          "base_uri": "https://localhost:8080/"
        },
        "outputId": "9f0598e8-ed99-4093-eb04-5f0dd496ced2"
      },
      "execution_count": 5,
      "outputs": [
        {
          "output_type": "stream",
          "name": "stdout",
          "text": [
            "Accesing and displaying Sites Visited and Accessibilitiy for Tourist with index position from 100 to 110\n",
            "               Site Name  Accessibility\n",
            "100            Taj Mahal          False\n",
            "101            Colosseum          False\n",
            "102  Great Wall of China           True\n",
            "103            Taj Mahal          False\n",
            "104            Colosseum           True\n",
            "105         Eiffel Tower           True\n",
            "106         Eiffel Tower          False\n",
            "107            Colosseum           True\n",
            "108            Taj Mahal          False\n",
            "109            Taj Mahal           True\n",
            "110            Taj Mahal          False\n"
          ]
        }
      ]
    },
    {
      "cell_type": "markdown",
      "source": [
        "Access and display data for the 11th tourist in the dataset using row index"
      ],
      "metadata": {
        "id": "wAcAVeBxuOmo"
      }
    },
    {
      "cell_type": "code",
      "source": [
        "print(\"Access and display data for the 11th tourist\")\n",
        "print(Tourism.loc[10])"
      ],
      "metadata": {
        "colab": {
          "base_uri": "https://localhost:8080/"
        },
        "id": "HaFhjAqBuUkS",
        "outputId": "09b5a029-f27c-42be-9e72-30238745077e"
      },
      "execution_count": 6,
      "outputs": [
        {
          "output_type": "stream",
          "name": "stdout",
          "text": [
            "Access and display data for the 11th tourist\n",
            "Tourist ID                                                         11\n",
            "Age                                                                27\n",
            "Interests                                  ['Nature', 'Architecture']\n",
            "Preferred Tour Duration                                             4\n",
            "Accessibility                                                   False\n",
            "Site Name                                                Eiffel Tower\n",
            "Sites Visited              ['Machu Picchu', 'Colosseum', 'Taj Mahal']\n",
            "Tour Duration                                                       6\n",
            "Route ID                                                        11000\n",
            "Tourist Rating                                                    3.2\n",
            "System Response Time                                             4.48\n",
            "Recommendation Accuracy                                            99\n",
            "VR Experience Quality                                             4.2\n",
            "Satisfaction                                                        3\n",
            "Name: 10, dtype: object\n"
          ]
        }
      ]
    },
    {
      "cell_type": "markdown",
      "source": [
        "Accessing and displaying the \"Accesibility\" and \"Sites Visited\" columns for frst all Tourist"
      ],
      "metadata": {
        "id": "hH8L4Hjnv4gm"
      }
    },
    {
      "cell_type": "code",
      "source": [
        "print(\"Accessing and displaying the 'Accesibility' and 'Sites Visited' columns for first all players\")\n",
        "print(Tourism[['Accessibility', 'Site Name']])"
      ],
      "metadata": {
        "colab": {
          "base_uri": "https://localhost:8080/"
        },
        "id": "4jE2ZXzdwMU-",
        "outputId": "b53f8479-b542-4846-f683-55e8da021c9a"
      },
      "execution_count": null,
      "outputs": [
        {
          "output_type": "stream",
          "name": "stdout",
          "text": [
            "Accessing and displaying the 'Accesibility' and 'Sites Visited' columns for first all players\n",
            "      Accessibility            Site Name\n",
            "0             False         Eiffel Tower\n",
            "1             False            Colosseum\n",
            "2              True         Machu Picchu\n",
            "3             False            Colosseum\n",
            "4              True            Colosseum\n",
            "...             ...                  ...\n",
            "4995          False  Great Wall of China\n",
            "4996           True  Great Wall of China\n",
            "4997           True         Machu Picchu\n",
            "4998          False            Colosseum\n",
            "4999          False            Colosseum\n",
            "\n",
            "[5000 rows x 2 columns]\n"
          ]
        }
      ]
    },
    {
      "cell_type": "markdown",
      "source": [
        "Selecting and displaying subset for dataframe containing only tourist interested in culture"
      ],
      "metadata": {
        "id": "tMteVF1ZxMfD"
      }
    },
    {
      "cell_type": "code",
      "source": [
        "print(\"Selecting and displaying subset for dataframe containing only tourist interested in culture\")\n",
        "print(Tourism[Tourism['Interests'] == 'Culture'])"
      ],
      "metadata": {
        "colab": {
          "base_uri": "https://localhost:8080/"
        },
        "id": "9FhPjnHDxxDe",
        "outputId": "dd696ee6-19b6-4c3f-aa49-899a11480ca7"
      },
      "execution_count": null,
      "outputs": [
        {
          "output_type": "stream",
          "name": "stdout",
          "text": [
            "Selecting and displaying subset for dataframe containing only tourist interested in culture\n",
            "Empty DataFrame\n",
            "Columns: [Tourist ID, Age, Interests, Preferred Tour Duration, Accessibility, Site Name, Sites Visited, Tour Duration, Route ID, Tourist Rating, System Response Time, Recommendation Accuracy, VR Experience Quality, Satisfaction]\n",
            "Index: []\n"
          ]
        }
      ]
    },
    {
      "cell_type": "markdown",
      "source": [
        "Histogram Tourist Age Distribution"
      ],
      "metadata": {
        "id": "rmNwqzpO6tcN"
      }
    },
    {
      "cell_type": "code",
      "source": [
        "plt.figure(figsize=(8, 4))\n",
        "sns.histplot(Tourism['Age'], bins=20, kde=True, color='blue')\n",
        "plt.title(\"Distribution of Tourist Age\")\n",
        "plt.xlabel(\"Age\")\n",
        "plt.ylabel(\"Count\")\n",
        "plt.show()\n"
      ],
      "metadata": {
        "colab": {
          "base_uri": "https://localhost:8080/",
          "height": 410
        },
        "id": "GevyMBD_zUl2",
        "outputId": "cc8b67a7-5a25-42af-b34a-1362551f5da0"
      },
      "execution_count": null,
      "outputs": [
        {
          "output_type": "display_data",
          "data": {
            "text/plain": [
              "<Figure size 800x400 with 1 Axes>"
            ],
            "image/png": "[encoded data removed]"
          },
          "metadata": {}
        }
      ]
    },
    {
      "cell_type": "markdown",
      "source": [
        "CountPlot Turist Satisfaction levels"
      ],
      "metadata": {
        "id": "vRvpPvjf11tO"
      }
    },
    {
      "cell_type": "code",
      "source": [
        "sns.countplot(x='Satisfaction', data=Tourism, palette='coolwarm')\n",
        "plt.title(\"Tourist Satisfaction Levels\")\n",
        "plt.show()\n"
      ],
      "metadata": {
        "colab": {
          "base_uri": "https://localhost:8080/",
          "height": 579
        },
        "id": "PEpZ7WBJ0Vud",
        "outputId": "f7c39d97-3b42-412c-eaf1-7b2fdbc320a2"
      },
      "execution_count": null,
      "outputs": [
        {
          "output_type": "stream",
          "name": "stderr",
          "text": [
            "<ipython-input-24-26317003c06a>:1: FutureWarning: \n",
            "\n",
            "Passing `palette` without assigning `hue` is deprecated and will be removed in v0.14.0. Assign the `x` variable to `hue` and set `legend=False` for the same effect.\n",
            "\n",
            "  sns.countplot(x='Satisfaction', data=Tourism, palette='coolwarm')\n"
          ]
        },
        {
          "output_type": "display_data",
          "data": {
            "text/plain": [
              "<Figure size 640x480 with 1 Axes>"
            ],
            "image/png": "[encoded data removed]"
          },
          "metadata": {}
        }
      ]
    },
    {
      "cell_type": "markdown",
      "source": [
        "Box Plot VR Eperience Quality by Satisfaction level"
      ],
      "metadata": {
        "id": "3IAsKJjb18BI"
      }
    },
    {
      "cell_type": "code",
      "source": [
        "sns.boxplot(x='Satisfaction', y='VR Experience Quality', data=Tourism)\n",
        "plt.title(\"VR Experience Quality by Satisfaction Level\")\n",
        "plt.show()\n"
      ],
      "metadata": {
        "colab": {
          "base_uri": "https://localhost:8080/",
          "height": 472
        },
        "id": "mCs_5Gsq0gII",
        "outputId": "5e6a53a6-8836-43e9-d59a-664be1c5a91c"
      },
      "execution_count": null,
      "outputs": [
        {
          "output_type": "display_data",
          "data": {
            "text/plain": [
              "<Figure size 640x480 with 1 Axes>"
            ],
            "image/png": "[encoded data removed]"
          },
          "metadata": {}
        }
      ]
    },
    {
      "cell_type": "markdown",
      "source": [
        "Bar Graph Top 10 Most visited Tourist Sites"
      ],
      "metadata": {
        "id": "tHZbvSOw3c4F"
      }
    },
    {
      "cell_type": "code",
      "source": [
        "Tourism['Site Name'].value_counts().head(10).plot(kind='barh', figsize=(8, 5), color='darkcyan')\n",
        "plt.title(\"Top 10 Most Visited Tourist Sites\")\n",
        "plt.xlabel(\"Visit Count\")\n",
        "plt.ylabel(\"Site Name\")\n",
        "plt.show()\n"
      ],
      "metadata": {
        "colab": {
          "base_uri": "https://localhost:8080/",
          "height": 487
        },
        "id": "KfZ3md3A0sfn",
        "outputId": "c3e35917-b0ae-4763-a613-faf212862ca5"
      },
      "execution_count": null,
      "outputs": [
        {
          "output_type": "display_data",
          "data": {
            "text/plain": [
              "<Figure size 800x500 with 1 Axes>"
            ],
            "image/png": "[encoded data removed]"
          },
          "metadata": {}
        }
      ]
    },
    {
      "cell_type": "markdown",
      "source": [
        "Pie chart for Tourist Satisfaction Distribution"
      ],
      "metadata": {
        "id": "O_tyyyCR3GH_"
      }
    },
    {
      "cell_type": "code",
      "source": [
        "satisfaction_counts = Tourism['Satisfaction'].value_counts().sort_index()\n",
        "\n",
        "plt.figure(figsize=(8, 8))\n",
        "plt.pie(satisfaction_counts, labels=satisfaction_counts.index, autopct='%1.1f%%', startangle=90, colors=plt.cm.Paired.colors)\n",
        "plt.title(\"Tourist Satisfaction Distribution\")\n",
        "plt.axis('equal')\n",
        "plt.show()\n"
      ],
      "metadata": {
        "colab": {
          "base_uri": "https://localhost:8080/",
          "height": 675
        },
        "id": "O7i6aRZs10yJ",
        "outputId": "91e567d1-cafa-48f1-fd77-02ae8808edd5"
      },
      "execution_count": null,
      "outputs": [
        {
          "output_type": "display_data",
          "data": {
            "text/plain": [
              "<Figure size 800x800 with 1 Axes>"
            ],
            "image/png": "[encoded data removed]"
          },
          "metadata": {}
        }
      ]
    },
    {
      "cell_type": "markdown",
      "source": [
        "Histogram for Tourist rating"
      ],
      "metadata": {
        "id": "fiYPEpE92-tb"
      }
    },
    {
      "cell_type": "code",
      "source": [
        "plt.figure(figsize=(10, 6))\n",
        "plt.hist(Tourism[\"Tourist Rating\"], bins=15, color='pink', edgecolor='black')\n",
        "plt.title(\"Histogram of Tourist Ratings\")\n",
        "plt.xlabel(\"Tourist Rating\")\n",
        "plt.ylabel(\"Frequency\")\n",
        "plt.grid(axis='y')\n",
        "plt.tight_layout()\n",
        "plt.show()"
      ],
      "metadata": {
        "colab": {
          "base_uri": "https://localhost:8080/",
          "height": 607
        },
        "id": "2eRYSXU62Scl",
        "outputId": "80605061-4222-4610-e730-e1cbdf4989e8"
      },
      "execution_count": null,
      "outputs": [
        {
          "output_type": "display_data",
          "data": {
            "text/plain": [
              "<Figure size 1000x600 with 1 Axes>"
            ],
            "image/png": "[encoded data removed]"
          },
          "metadata": {}
        }
      ]
    },
    {
      "cell_type": "markdown",
      "source": [
        "Bar Plot Average Satisfaction by Tourist Sites"
      ],
      "metadata": {
        "id": "D0Haw9xA2zzh"
      }
    },
    {
      "cell_type": "code",
      "source": [
        "plt.figure(figsize=(10, 6))\n",
        "avg_satisfaction = Tourism.groupby('Site Name')['Satisfaction'].mean().sort_values(ascending=False)\n",
        "sns.barplot(x=avg_satisfaction.values, y=avg_satisfaction.index, palette=\"viridis\")\n",
        "plt.xlabel(\"Average Satisfaction\")\n",
        "plt.title(\"Average Satisfaction by Tourist Site\")\n",
        "plt.tight_layout()\n",
        "plt.show()"
      ],
      "metadata": {
        "colab": {
          "base_uri": "https://localhost:8080/",
          "height": 714
        },
        "id": "UFNF5pgJ2aRk",
        "outputId": "643f473c-0178-4e70-c144-1905bd6884dd"
      },
      "execution_count": null,
      "outputs": [
        {
          "output_type": "stream",
          "name": "stderr",
          "text": [
            "<ipython-input-35-2f96f3fa0fe7>:3: FutureWarning: \n",
            "\n",
            "Passing `palette` without assigning `hue` is deprecated and will be removed in v0.14.0. Assign the `y` variable to `hue` and set `legend=False` for the same effect.\n",
            "\n",
            "  sns.barplot(x=avg_satisfaction.values, y=avg_satisfaction.index, palette=\"viridis\")\n"
          ]
        },
        {
          "output_type": "display_data",
          "data": {
            "text/plain": [
              "<Figure size 1000x600 with 1 Axes>"
            ],
            "image/png": "[encoded data removed]"
          },
          "metadata": {}
        }
      ]
    },
    {
      "cell_type": "markdown",
      "source": [
        "Scatter Plot Age Vs Satisfaction Level"
      ],
      "metadata": {
        "id": "pOcn3tAz2dwu"
      }
    },
    {
      "cell_type": "code",
      "source": [
        "plt.figure(figsize=(10, 6))\n",
        "plt.scatter(Tourism[\"Age\"], Tourism[\"Satisfaction\"], alpha=0.5, c='teal', edgecolors='w')\n",
        "plt.title(\"Scatter Plot: Age vs Satisfaction\")\n",
        "plt.xlabel(\"Age\")\n",
        "plt.ylabel(\"Satisfaction\")\n",
        "plt.grid(True)\n",
        "plt.tight_layout()\n",
        "plt.show()"
      ],
      "metadata": {
        "colab": {
          "base_uri": "https://localhost:8080/",
          "height": 607
        },
        "id": "fpzEOgvN2i9j",
        "outputId": "9d85a395-349c-43bf-bc42-51ed86d37399"
      },
      "execution_count": null,
      "outputs": [
        {
          "output_type": "display_data",
          "data": {
            "text/plain": [
              "<Figure size 1000x600 with 1 Axes>"
            ],
            "image/png": "[encoded data removed]"
          },
          "metadata": {}
        }
      ]
    }
  ]
}